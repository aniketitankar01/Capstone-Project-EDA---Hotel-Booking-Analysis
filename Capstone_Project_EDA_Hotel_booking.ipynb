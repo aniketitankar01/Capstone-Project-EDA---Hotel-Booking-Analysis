{
  "nbformat": 4,
  "nbformat_minor": 0,
  "metadata": {
    "colab": {
      "private_outputs": true,
      "provenance": [],
      "collapsed_sections": [
        "vncDsAP0Gaoa",
        "FJNUwmbgGyua",
        "yQaldy8SH6Dl",
        "mDgbUHAGgjLW",
        "PBTbrJXOngz2",
        "QHF8YVU7Yuh3",
        "t27r6nlMphqO",
        "ylSl6qgtp1ck",
        "ODzLExhbfowj",
        "22aHeOlLveiV",
        "gIfDvo9L0UH2"
      ]
    },
    "kernelspec": {
      "name": "python3",
      "display_name": "Python 3"
    },
    "language_info": {
      "name": "python"
    }
  },
  "cells": [
    {
      "cell_type": "markdown",
      "source": [
        "# **Project Name**    -\n",
        "\n"
      ],
      "metadata": {
        "id": "vncDsAP0Gaoa"
      }
    },
    {
      "cell_type": "markdown",
      "source": [
        "## **Exploratory Data Analysis of Hotel Bookings (2015-2016)**\n",
        "##### **Project Type**    - EDA\n",
        "##### **Contribution**    - Individual\n",
        "##### **Team Member 1 - Aniket Itankar**\n"
      ],
      "metadata": {
        "id": "beRrZCGUAJYm"
      }
    },
    {
      "cell_type": "markdown",
      "source": [
        "# **Project Summary -**"
      ],
      "metadata": {
        "id": "FJNUwmbgGyua"
      }
    },
    {
      "cell_type": "markdown",
      "source": [
        "This project involves conducting an exploratory data analysis (EDA) of hotel bookings from **2015 to 2016**, leveraging a dataset with 36 columns capturing various aspects of reservations. The objectives encompass in-depth analyses, including investigating cancellation factors, exploring booking trends over time, examining guest demographics, analyzing room preferences and changes, and segmenting customers based on market segments. The methodology employs a systematic EDA approach, incorporating statistical and visual techniques, along with potential machine learning applications for predictive analysis. Anticipated outcomes include the identification of cancellation contributors, insights into booking trends, an understanding of guest demographics, improved comprehension of room preferences, and customer segmentation insights. This comprehensive analysis aims to provide actionable insights for the hotel industry, enabling informed decisions to enhance operational efficiency, guest experience, and overall business performance.\n",
        "\n"
      ],
      "metadata": {
        "id": "F6v_1wHtG2nS"
      }
    },
    {
      "cell_type": "markdown",
      "source": [
        "# **GitHub Link -**\n",
        "\n"
      ],
      "metadata": {
        "id": "w6K7xa23Elo4"
      }
    },
    {
      "cell_type": "markdown",
      "source": [
        "Provide your GitHub Link here."
      ],
      "metadata": {
        "id": "h1o69JH3Eqqn"
      }
    },
    {
      "cell_type": "markdown",
      "source": [
        "# **Problem Statement**\n"
      ],
      "metadata": {
        "id": "yQaldy8SH6Dl"
      }
    },
    {
      "cell_type": "markdown",
      "source": [
        "**Problem Statement for EDA of Hotel Booking:**\n",
        "\n",
        "The hotel industry faces several challenges that hinder operational efficiency and strategic decision-making. These challenges include difficulties in accurately predicting booking cancellations, leading to revenue loss and operational disruptions. Additionally, there is a lack of comprehensive insights into temporal booking patterns, hindering effective resource management. Incomplete guest demographic analysis limits personalized services, impacting guest satisfaction and loyalty. Challenges in understanding room preferences and changes result in inefficient room allocation strategies and potential guest dissatisfaction. The absence of a robust customer segmentation strategy further complicates targeted marketing and service customization. The overarching goal of this project is to address these challenges through a thorough Exploratory Data Analysis (EDA) of hotel bookings, utilizing a dataset with features such as 'hotel', 'is_canceled', 'lead_time', 'arrival_date_year', and others. **"
      ],
      "metadata": {
        "id": "DpeJGUA3kjGy"
      }
    },
    {
      "cell_type": "markdown",
      "source": [
        "#### **Define Your Business Objective?**"
      ],
      "metadata": {
        "id": "PH-0ReGfmX4f"
      }
    },
    {
      "cell_type": "markdown",
      "source": [
        "The outcomes aim to provide actionable insights for the hotel industry, facilitating improved operational efficiency, enhanced guest experiences, and strategic decision-making for optimized overall business performance."
      ],
      "metadata": {
        "id": "PhDvGCAqmjP1"
      }
    },
    {
      "cell_type": "markdown",
      "source": [
        "# **General Guidelines** : -  "
      ],
      "metadata": {
        "id": "mDgbUHAGgjLW"
      }
    },
    {
      "cell_type": "markdown",
      "source": [
        "1.   Well-structured, formatted, and commented code is required.\n",
        "2.   Exception Handling, Production Grade Code & Deployment Ready Code will be a plus. Those students will be awarded some additional credits.\n",
        "     \n",
        "     The additional credits will have advantages over other students during Star Student selection.\n",
        "       \n",
        "             [ Note: - Deployment Ready Code is defined as, the whole .ipynb notebook should be executable in one go\n",
        "                       without a single error logged. ]\n",
        "\n",
        "3.   Each and every logic should have proper comments.\n",
        "4. You may add as many number of charts you want. Make Sure for each and every chart the following format should be answered.\n",
        "        \n",
        "\n",
        "```\n",
        "# Chart visualization code\n",
        "```\n",
        "            \n",
        "\n",
        "*   Why did you pick the specific chart?\n",
        "*   What is/are the insight(s) found from the chart?\n",
        "* Will the gained insights help creating a positive business impact?\n",
        "Are there any insights that lead to negative growth? Justify with specific reason.\n",
        "\n",
        "5. You have to create at least 20 logical & meaningful charts having important insights.\n",
        "\n",
        "\n",
        "[ Hints : - Do the Vizualization in  a structured way while following \"UBM\" Rule.\n",
        "\n",
        "U - Univariate Analysis,\n",
        "\n",
        "B - Bivariate Analysis (Numerical - Categorical, Numerical - Numerical, Categorical - Categorical)\n",
        "\n",
        "M - Multivariate Analysis\n",
        " ]\n",
        "\n",
        "\n",
        "\n"
      ],
      "metadata": {
        "id": "ZrxVaUj-hHfC"
      }
    },
    {
      "cell_type": "markdown",
      "source": [
        "# ***Let's Begin !***"
      ],
      "metadata": {
        "id": "O_i_v8NEhb9l"
      }
    },
    {
      "cell_type": "markdown",
      "source": [
        "## ***1. Know Your Data***"
      ],
      "metadata": {
        "id": "HhfV-JJviCcP"
      }
    },
    {
      "cell_type": "markdown",
      "source": [
        "### Import Libraries"
      ],
      "metadata": {
        "id": "Y3lxredqlCYt"
      }
    },
    {
      "cell_type": "code",
      "source": [
        "# Import Libraries\n",
        "from google.colab import drive\n",
        "import numpy as np\n",
        "import pandas as pd\n",
        "import matplotlib.pyplot as plt\n",
        "import seaborn as sns\n",
        "%matplotlib inline\n",
        "\n",
        "drive.mount('/content/drive')\n"
      ],
      "metadata": {
        "id": "M8Vqi-pPk-HR"
      },
      "execution_count": null,
      "outputs": []
    },
    {
      "cell_type": "code",
      "source": [],
      "metadata": {
        "id": "ka3TDStqxBfr"
      },
      "execution_count": null,
      "outputs": []
    },
    {
      "cell_type": "markdown",
      "source": [
        "### Dataset Loading"
      ],
      "metadata": {
        "id": "3RnN4peoiCZX"
      }
    },
    {
      "cell_type": "code",
      "source": [
        "# Load Dataset\n",
        "filepath ='drive/My Drive/EDA Capstone Hotel Booking/Hotel Bookings.csv'\n",
        "df = pd.read_csv(filepath,header = 0)\n"
      ],
      "metadata": {
        "id": "4CkvbW_SlZ_R"
      },
      "execution_count": null,
      "outputs": []
    },
    {
      "source": [],
      "cell_type": "code",
      "metadata": {
        "id": "nF7BvbtryKt5"
      },
      "execution_count": null,
      "outputs": []
    },
    {
      "cell_type": "markdown",
      "source": [
        "### Dataset First View"
      ],
      "metadata": {
        "id": "x71ZqKXriCWQ"
      }
    },
    {
      "cell_type": "code",
      "source": [
        "# Dataset First Look\n",
        "df.head()"
      ],
      "metadata": {
        "id": "LWNFOSvLl09H"
      },
      "execution_count": null,
      "outputs": []
    },
    {
      "cell_type": "markdown",
      "source": [
        "### Dataset Rows & Columns count"
      ],
      "metadata": {
        "id": "7hBIi_osiCS2"
      }
    },
    {
      "cell_type": "code",
      "source": [
        "# Dataset Rows & Columns count\n",
        "df.shape"
      ],
      "metadata": {
        "id": "Kllu7SJgmLij"
      },
      "execution_count": null,
      "outputs": []
    },
    {
      "cell_type": "markdown",
      "source": [
        "### Dataset Information"
      ],
      "metadata": {
        "id": "JlHwYmJAmNHm"
      }
    },
    {
      "cell_type": "code",
      "source": [
        "# Dataset Info\n",
        "df.info()"
      ],
      "metadata": {
        "id": "e9hRXRi6meOf"
      },
      "execution_count": null,
      "outputs": []
    },
    {
      "cell_type": "markdown",
      "source": [
        "#### Duplicate Values"
      ],
      "metadata": {
        "id": "35m5QtbWiB9F"
      }
    },
    {
      "cell_type": "code",
      "source": [
        "# Dataset Duplicate Value Count\n",
        "df.duplicated().sum()"
      ],
      "metadata": {
        "id": "1sLdpKYkmox0"
      },
      "execution_count": null,
      "outputs": []
    },
    {
      "cell_type": "code",
      "source": [
        "df.drop_duplicates(inplace = True)"
      ],
      "metadata": {
        "id": "GMXJN4SJ3BQt"
      },
      "execution_count": null,
      "outputs": []
    },
    {
      "cell_type": "markdown",
      "source": [
        "#### Missing Values/Null Values"
      ],
      "metadata": {
        "id": "PoPl-ycgm1ru"
      }
    },
    {
      "cell_type": "code",
      "source": [
        "# Missing Values/Null Values Count\n",
        "df.isnull().sum()"
      ],
      "metadata": {
        "id": "GgHWkxvamxVg"
      },
      "execution_count": null,
      "outputs": []
    },
    {
      "cell_type": "code",
      "source": [
        "# Visualizing the missing values\n",
        "null = pd.DataFrame(df[['country','agent','company','children']].isnull().sum()).reset_index().rename(columns = {'index':'Features',0:'Null count'}).sort_values(by = 'Null count',ascending = False)\n",
        "print(null)\n",
        "\n",
        "sns.barplot(x = null['Features'],y  = null['Null count'])"
      ],
      "metadata": {
        "id": "3q5wnI3om9sJ"
      },
      "execution_count": null,
      "outputs": []
    },
    {
      "cell_type": "code",
      "source": [
        "# handling the missing value in children column by imputing 0 to the nan\n",
        "df['children'] = df['children'].fillna(value = 0)"
      ],
      "metadata": {
        "id": "6nmwrA1kd-cy"
      },
      "execution_count": null,
      "outputs": []
    },
    {
      "cell_type": "code",
      "source": [
        "df['children'].isnull().sum()"
      ],
      "metadata": {
        "id": "xk2ie4neeV21"
      },
      "execution_count": null,
      "outputs": []
    },
    {
      "cell_type": "markdown",
      "source": [
        "### What did you know about your dataset?"
      ],
      "metadata": {
        "id": "H0kj-8xxnORC"
      }
    },
    {
      "cell_type": "markdown",
      "source": [
        "**Basic Summery of the Dataset**\n",
        "\n",
        "\n",
        "* Dataset contain 36 fields i.e. columns and 119390 entries i.e. rows.\n",
        "Outoff 119390 entries, 31994 entries are duplicate  This duplicate rows are not usefull and makes data noisy, so dropped those rows.\n",
        "* Country,agent and company field contains null value, among them company field have maximum number of missing values.\n",
        "* Children field only 4 null value, so we imputed or replaced the null value by 0.\n"
      ],
      "metadata": {
        "id": "gfoNAAC-nUe_"
      }
    },
    {
      "cell_type": "markdown",
      "source": [
        "## ***2. Understanding Your Variables***"
      ],
      "metadata": {
        "id": "nA9Y7ga8ng1Z"
      }
    },
    {
      "cell_type": "code",
      "source": [
        "# Dataset Columns\n",
        "df.columns"
      ],
      "metadata": {
        "id": "j7xfkqrt5Ag5"
      },
      "execution_count": null,
      "outputs": []
    },
    {
      "cell_type": "code",
      "source": [],
      "metadata": {
        "id": "6Ar7ArXBUCmc"
      },
      "execution_count": null,
      "outputs": []
    },
    {
      "cell_type": "code",
      "source": [
        "# Dataset Describe\n",
        "df.describe()"
      ],
      "metadata": {
        "id": "DnOaZdaE5Q5t"
      },
      "execution_count": null,
      "outputs": []
    },
    {
      "cell_type": "markdown",
      "source": [
        "### Variables Description"
      ],
      "metadata": {
        "id": "PBTbrJXOngz2"
      }
    },
    {
      "cell_type": "markdown",
      "source": [
        "\n",
        "\n",
        "1. **is_canceled:**\n",
        "   - This binary variable indicates whether a booking was canceled (1) or not (0).\n",
        "   - It provides insights into the cancellation patterns within the dataset.\n",
        "\n",
        "2. **lead_time:**\n",
        "   - Represents the number of days between the booking date and the arrival date.\n",
        "   - Offers information on the planning horizon for reservations.\n",
        "\n",
        "3. **arrival_date_year:**\n",
        "   - Specifies the year of arrival for the booking.\n",
        "   - Helps in analyzing booking trends over different years.\n",
        "\n",
        "4. **stays_in_weekend_nights:**\n",
        "   - Indicates the number of weekend nights (Saturday and Sunday) the guest stays.\n",
        "   - Offers insights into the weekend stay patterns of guests.\n",
        "\n",
        "5. **stays_in_week_nights:**\n",
        "   - Represents the number of weekday nights (Monday to Friday) the guest stays.\n",
        "   - Provides information on the duration of the stay during the weekdays.\n",
        "\n",
        "6. **adults, children, babies:**\n",
        "   - These columns represent the number of adults, children, and babies included in the booking.\n",
        "   - Help in understanding the composition of guests in terms of age groups.\n",
        "\n",
        "7. **is_repeated_guest:**\n",
        "   - A binary variable indicating whether the guest is a repeated guest (1) or not (0).\n",
        "   - Offers insights into the proportion of repeat guests.\n",
        "\n",
        "8. **previous_cancellations, previous_bookings_not_canceled:**\n",
        "   - Reflect the count of previous cancellations and bookings not canceled by the guest.\n",
        "   - Contribute to understanding the guest's historical booking behavior.\n",
        "\n",
        "9. **booking_changes:**\n",
        "   - Represents the number of changes made to the booking before arrival.\n",
        "   - Provides insights into the flexibility and adaptability of bookings.\n",
        "\n",
        "10. **agent, company:**\n",
        "    - These columns contain numerical identifiers for the booking agent and the company.\n",
        "    - Help in identifying the entities associated with the booking.\n",
        "\n",
        "11. **days_in_waiting_list:**\n",
        "    - Indicates the number of days the booking was in the waiting list before it was confirmed.\n",
        "    - Provides insights into the demand and waiting times for reservations.\n",
        "\n",
        "12. **adr:**\n",
        "    - Stands for Average Daily Rate and represents the average rental income per paid occupied room per day.\n",
        "    - Offers insights into the pricing strategy and revenue generation.\n",
        "\n",
        "13. **required_car_parking_spaces:**\n",
        "    - Specifies the number of car parking spaces requested by the guest.\n",
        "    - Provides information on the parking needs of guests.\n",
        "\n",
        "14. **total_of_special_requests:**\n",
        "    - Represents the total number of special requests made by the guest (e.g., extra beds, specific room preferences).\n",
        "    - Offers insights into guest preferences and customization requirements.\n",
        "\n",
        "These descriptions aim to provide a brief overview of the numerical fields in the dataset, highlighting their significance for exploratory data analysis."
      ],
      "metadata": {
        "id": "aJV4KIxSnxay"
      }
    },
    {
      "cell_type": "markdown",
      "source": [
        "### Check Unique Values for each variable."
      ],
      "metadata": {
        "id": "u3PMJOP6ngxN"
      }
    },
    {
      "cell_type": "code",
      "source": [
        "# Check Unique Values for each variable.\n",
        "# Unique value for 'hotel' field\n",
        "df.hotel.unique()"
      ],
      "metadata": {
        "id": "zms12Yq5n-jE"
      },
      "execution_count": null,
      "outputs": []
    },
    {
      "cell_type": "code",
      "source": [
        "# Unique value for 'is_canceled' field\n",
        "df['is_canceled'].unique()"
      ],
      "metadata": {
        "id": "NMpcCBARXPo6"
      },
      "execution_count": null,
      "outputs": []
    },
    {
      "cell_type": "code",
      "source": [
        "# Unique value for 'lead_time' field\n",
        "df['lead_time'].unique()"
      ],
      "metadata": {
        "id": "GOBlK8piXgRC"
      },
      "execution_count": null,
      "outputs": []
    },
    {
      "cell_type": "code",
      "source": [
        "# Unique value for 'arrival_date_year' field\n",
        "df['arrival_date_year'].unique()"
      ],
      "metadata": {
        "id": "CsG1fuIRXpvV"
      },
      "execution_count": null,
      "outputs": []
    },
    {
      "cell_type": "code",
      "source": [
        "# Unique value for 'arrival_date_month' field\n",
        "df['arrival_date_month'].unique()"
      ],
      "metadata": {
        "id": "Y3MBs00MX1JS"
      },
      "execution_count": null,
      "outputs": []
    },
    {
      "cell_type": "code",
      "source": [
        "# Unique value for 'arrival_date_week_number' field\n",
        "df['arrival_date_week_number'].unique()"
      ],
      "metadata": {
        "id": "zJ2tYOW9X1GX"
      },
      "execution_count": null,
      "outputs": []
    },
    {
      "cell_type": "code",
      "source": [
        "# Unique value for 'arrival_date_day_of_month' field\n",
        "df['arrival_date_day_of_month'].unique()"
      ],
      "metadata": {
        "id": "qy8FQw7XX1C5"
      },
      "execution_count": null,
      "outputs": []
    },
    {
      "cell_type": "code",
      "source": [
        "# Unique value for 'stays_in_weekend_nights' field\n",
        "df['stays_in_weekend_nights'].unique()"
      ],
      "metadata": {
        "id": "qu7QtcIyX0pm"
      },
      "execution_count": null,
      "outputs": []
    },
    {
      "cell_type": "code",
      "source": [
        "# Unique value for 'stays_in_week_nights' field\n",
        "df['stays_in_week_nights'].unique()"
      ],
      "metadata": {
        "id": "dbkbA8IeX0a8"
      },
      "execution_count": null,
      "outputs": []
    },
    {
      "cell_type": "code",
      "source": [
        "# Unique value for 'adults' field\n",
        "df['adults'].unique()"
      ],
      "metadata": {
        "id": "9Vv-D9YbYLuF"
      },
      "execution_count": null,
      "outputs": []
    },
    {
      "cell_type": "code",
      "source": [
        "# Unique value for 'children' field\n",
        "df['children'].unique()"
      ],
      "metadata": {
        "id": "RuHFyH1gYLqp"
      },
      "execution_count": null,
      "outputs": []
    },
    {
      "cell_type": "code",
      "source": [
        "# Unique value for 'babies' field\n",
        "df['babies'].unique()"
      ],
      "metadata": {
        "id": "p2kA7L1zYLoA"
      },
      "execution_count": null,
      "outputs": []
    },
    {
      "cell_type": "code",
      "source": [
        "# Unique value for 'meal' field\n",
        "df['meal'].unique()"
      ],
      "metadata": {
        "id": "rJygC-AhYLmV"
      },
      "execution_count": null,
      "outputs": []
    },
    {
      "cell_type": "code",
      "source": [
        "# Unique value for 'country' field\n",
        "df['country'].unique()"
      ],
      "metadata": {
        "id": "T5bfaEpXYLjI"
      },
      "execution_count": null,
      "outputs": []
    },
    {
      "cell_type": "code",
      "source": [
        "# Unique value for 'market_segment' field\n",
        "df['market_segment'].unique()"
      ],
      "metadata": {
        "id": "mjGCRvxeYLgw"
      },
      "execution_count": null,
      "outputs": []
    },
    {
      "cell_type": "code",
      "source": [
        "# Unique value for 'distribution_channel' field\n",
        "df['distribution_channel'].unique()"
      ],
      "metadata": {
        "id": "VPe4bUgfYLeL"
      },
      "execution_count": null,
      "outputs": []
    },
    {
      "cell_type": "code",
      "source": [
        "# Unique value for 'is_repeated_guest' field\n",
        "df['is_repeated_guest'].unique()"
      ],
      "metadata": {
        "id": "mBsyKf_qYLb7"
      },
      "execution_count": null,
      "outputs": []
    },
    {
      "cell_type": "code",
      "source": [
        "# Unique value for 'previous_cancellations' field\n",
        "df['previous_cancellations'].unique()"
      ],
      "metadata": {
        "id": "q-qpIS25YLZw"
      },
      "execution_count": null,
      "outputs": []
    },
    {
      "cell_type": "code",
      "source": [
        "# Unique value for 'previous_bookings_not_canceled' field\n",
        "df['previous_bookings_not_canceled'].unique()"
      ],
      "metadata": {
        "id": "_1oZBm_7YLXM"
      },
      "execution_count": null,
      "outputs": []
    },
    {
      "cell_type": "code",
      "source": [
        "# Unique value for 'reserved_room_type' field\n",
        "df['reserved_room_type'].unique()"
      ],
      "metadata": {
        "id": "WSv_ny1EYWPM"
      },
      "execution_count": null,
      "outputs": []
    },
    {
      "cell_type": "code",
      "source": [
        "# Unique value for 'assigned_room_type' field\n",
        "df['assigned_room_type'].unique()"
      ],
      "metadata": {
        "id": "oeVsqg_sYWL_"
      },
      "execution_count": null,
      "outputs": []
    },
    {
      "cell_type": "code",
      "source": [
        "# Unique value for 'booking_changes' field\n",
        "df['booking_changes'].unique()"
      ],
      "metadata": {
        "id": "Jafr1FYUYWJU"
      },
      "execution_count": null,
      "outputs": []
    },
    {
      "cell_type": "code",
      "source": [
        "# Unique value for 'deposit_type' field\n",
        "df['deposit_type'].unique()"
      ],
      "metadata": {
        "id": "OXcGYWsDYWGp"
      },
      "execution_count": null,
      "outputs": []
    },
    {
      "cell_type": "code",
      "source": [
        "# Unique value for 'agent' field\n",
        "df['agent'].unique()"
      ],
      "metadata": {
        "id": "gcYAMqcoYWEQ"
      },
      "execution_count": null,
      "outputs": []
    },
    {
      "cell_type": "code",
      "source": [
        "# Unique value for 'company' field\n",
        "df['company'].unique()"
      ],
      "metadata": {
        "id": "fF_-cJqyYWBp"
      },
      "execution_count": null,
      "outputs": []
    },
    {
      "cell_type": "code",
      "source": [
        "# Unique value for 'days_in_waiting_list' field\n",
        "df['days_in_waiting_list'].unique()"
      ],
      "metadata": {
        "id": "58PbN7RuYV_W"
      },
      "execution_count": null,
      "outputs": []
    },
    {
      "cell_type": "code",
      "source": [
        "# Unique value for 'customer_type' field\n",
        "df['customer_type'].unique()"
      ],
      "metadata": {
        "id": "hLiflY1JYV8_"
      },
      "execution_count": null,
      "outputs": []
    },
    {
      "cell_type": "code",
      "source": [
        "# Unique value for 'adr' field\n",
        "df['adr'].unique()"
      ],
      "metadata": {
        "id": "8VNSiyPSa2n4"
      },
      "execution_count": null,
      "outputs": []
    },
    {
      "cell_type": "code",
      "source": [
        "# Unique value for 'required_car_parking_spaces' field\n",
        "df['required_car_parking_spaces'].unique()"
      ],
      "metadata": {
        "id": "OnD_17n1a2zk"
      },
      "execution_count": null,
      "outputs": []
    },
    {
      "cell_type": "code",
      "source": [
        "# Unique value for 'total_of_special_requests' field\n",
        "df['total_of_special_requests'].unique()"
      ],
      "metadata": {
        "id": "gA8zwaLua3AG"
      },
      "execution_count": null,
      "outputs": []
    },
    {
      "cell_type": "code",
      "source": [
        "# Unique value for 'reservation_status' field\n",
        "df['reservation_status'].unique()"
      ],
      "metadata": {
        "id": "WWsXsaKKa3LA"
      },
      "execution_count": null,
      "outputs": []
    },
    {
      "cell_type": "code",
      "source": [
        "# Unique value for 'reservation_status_date' field\n",
        "df['reservation_status_date'].unique()"
      ],
      "metadata": {
        "id": "oSU-9dQxa3XE"
      },
      "execution_count": null,
      "outputs": []
    },
    {
      "cell_type": "markdown",
      "source": [
        "df.columns"
      ],
      "metadata": {
        "id": "vqs3gREOW93B"
      }
    },
    {
      "cell_type": "code",
      "source": [
        "\n",
        "df.columns"
      ],
      "metadata": {
        "id": "uPqwhMImk4jv"
      },
      "execution_count": null,
      "outputs": []
    },
    {
      "cell_type": "markdown",
      "source": [
        "## 3. ***Data Wrangling***"
      ],
      "metadata": {
        "id": "dauF4eBmngu3"
      }
    },
    {
      "cell_type": "markdown",
      "source": [
        "### Data Wrangling Code"
      ],
      "metadata": {
        "id": "bKJF3rekwFvQ"
      }
    },
    {
      "cell_type": "code",
      "source": [
        "# Write your code to make your dataset analysis ready.\n",
        "df['reservation_status_date'] = pd.to_datetime(df['reservation_status_date'])\n",
        "df['children'] = df['children'].astype('int64')\n",
        "\n"
      ],
      "metadata": {
        "id": "wk-9a2fpoLcV"
      },
      "execution_count": null,
      "outputs": []
    },
    {
      "cell_type": "markdown",
      "source": [
        "### What all manipulations have you done and insights you found?"
      ],
      "metadata": {
        "id": "MSa1f5Uengrz"
      }
    },
    {
      "cell_type": "markdown",
      "source": [
        "* Changed the datatype of reservation_status_date field from object to datetime.\n",
        "* Changed the datatype of children field from float to int64."
      ],
      "metadata": {
        "id": "LbyXE7I1olp8"
      }
    },
    {
      "cell_type": "markdown",
      "source": [
        "## ***4. Data Vizualization, Storytelling & Experimenting with charts : Understand the relationships between variables***"
      ],
      "metadata": {
        "id": "GF8Ens_Soomf"
      }
    },
    {
      "cell_type": "markdown",
      "source": [
        "#### Chart - 1"
      ],
      "metadata": {
        "id": "0wOQAZs5pc--"
      }
    },
    {
      "cell_type": "code",
      "source": [
        "# Chart - 1 visualization code\n",
        "\n",
        "print(df.hotel.value_counts())\n",
        "sns.countplot(df.hotel)"
      ],
      "metadata": {
        "id": "7v_ESjsspbW7"
      },
      "execution_count": null,
      "outputs": []
    },
    {
      "cell_type": "markdown",
      "source": [
        "##### 1. Why did you pick the specific chart?"
      ],
      "metadata": {
        "id": "K5QZ13OEpz2H"
      }
    },
    {
      "cell_type": "markdown",
      "source": [
        "**Answer** : Using bar charts, specifically countplots, facilitates a straightforward illustration of the most sought-after hotel types in 2015, 2016, and 2017. This visual representation allows for a quick and clear comparison of demand trends for different hotel categories ."
      ],
      "metadata": {
        "id": "XESiWehPqBRc"
      }
    },
    {
      "cell_type": "markdown",
      "source": [
        "##### 2. What is/are the insight(s) found from the chart?"
      ],
      "metadata": {
        "id": "lQ7QKXXCp7Bj"
      }
    },
    {
      "cell_type": "markdown",
      "source": [
        "**Answer :** The data indicates that city hotels have the highest number of bookings, around 52,000, while resort hotels have approximately 35,000 bookings consistently across the years 2015, 2016, and 2017. This insight highlights the popularity and higher demand for city hotels compared to resort hotels during this time period."
      ],
      "metadata": {
        "id": "C_j1G7yiqdRP"
      }
    },
    {
      "cell_type": "markdown",
      "source": [
        "##### 3. Will the gained insights help creating a positive business impact?\n",
        "Are there any insights that lead to negative growth? Justify with specific reason."
      ],
      "metadata": {
        "id": "448CDAPjqfQr"
      }
    },
    {
      "cell_type": "markdown",
      "source": [
        "**Answer :** The insight of higher bookings in city hotels presents a positive opportunity for targeted strategies and resource allocation. However, the consistently lower booking count in resort hotels calls for strategic measures to avoid negative growth, including focused marketing efforts and unique offerings for resort destinations."
      ],
      "metadata": {
        "id": "3cspy4FjqxJW"
      }
    },
    {
      "cell_type": "markdown",
      "source": [
        "#### Chart - 2"
      ],
      "metadata": {
        "id": "KSlN3yHqYklG"
      }
    },
    {
      "cell_type": "code",
      "source": [
        "# Chart - 2 visualization code\n",
        "print(df.arrival_date_year.value_counts())\n",
        "sns.countplot(x = df.arrival_date_year)"
      ],
      "metadata": {
        "id": "R4YgtaqtYklH"
      },
      "execution_count": null,
      "outputs": []
    },
    {
      "cell_type": "markdown",
      "source": [
        "##### 1. Why did you pick the specific chart?"
      ],
      "metadata": {
        "id": "t6dVpIINYklI"
      }
    },
    {
      "cell_type": "markdown",
      "source": [
        "**Answer** : The bar graph presents a clear comparison of annual bookings for the years 2015, 2016, and 2017. Each bar corresponds to the respective year, showcasing the total number of bookings."
      ],
      "metadata": {
        "id": "5aaW0BYyYklI"
      }
    },
    {
      "cell_type": "markdown",
      "source": [
        "##### 2. What is/are the insight(s) found from the chart?"
      ],
      "metadata": {
        "id": "ijmpgYnKYklI"
      }
    },
    {
      "cell_type": "markdown",
      "source": [
        "**Answer**  The data reveals that 2016 had the highest number of bookings, followed by 2017, while 2015 had the least number of bookings overall."
      ],
      "metadata": {
        "id": "PSx9atu2YklI"
      }
    },
    {
      "cell_type": "markdown",
      "source": [
        "##### 3. Will the gained insights help creating a positive business impact?\n",
        "Are there any insights that lead to negative growth? Justify with specific reason."
      ],
      "metadata": {
        "id": "-JiQyfWJYklI"
      }
    },
    {
      "cell_type": "markdown",
      "source": [
        "**Answer** The gained insights can potentially help create a positive business impact. Recognizing the peak booking years (2016 and 2017) provides an opportunity to capitalize on successful strategies during those periods. However, potential challenges may arise from the lower booking numbers in 2015. It's essential to investigate the reasons behind the lower performance in that year and adapt strategies to avoid negative growth. Adjusting marketing efforts and identifying factors contributing to the lower bookings in 2015 can contribute to a more balanced and positive business trajectory."
      ],
      "metadata": {
        "id": "BcBbebzrYklV"
      }
    },
    {
      "cell_type": "markdown",
      "source": [
        "#### Chart - 3"
      ],
      "metadata": {
        "id": "EM7whBJCYoAo"
      }
    },
    {
      "cell_type": "code",
      "source": [
        "# Chart - 3 visualization code\n",
        "\n",
        "print(df.arrival_date_month.value_counts())\n",
        "sns.countplot( df.arrival_date_month)"
      ],
      "metadata": {
        "id": "t6GMdE67YoAp"
      },
      "execution_count": null,
      "outputs": []
    },
    {
      "cell_type": "markdown",
      "source": [
        "##### 1. Why did you pick the specific chart?"
      ],
      "metadata": {
        "id": "fge-S5ZAYoAp"
      }
    },
    {
      "cell_type": "markdown",
      "source": [
        "**Answer** : The bar graph provides a convenient comparison of monthly bookings for the years 2015, 2016 and 2017. Each bar represents a specific month, allowing a quick visual assessment of booking trends over this period."
      ],
      "metadata": {
        "id": "5dBItgRVYoAp"
      }
    },
    {
      "cell_type": "markdown",
      "source": [
        "##### 2. What is/are the insight(s) found from the chart?"
      ],
      "metadata": {
        "id": "85gYPyotYoAp"
      }
    },
    {
      "cell_type": "markdown",
      "source": [
        "**Answer** :\n",
        "* The data reveals a seasonal pattern in bookings, with August and July experiencing the highest demand.\n",
        "*  Additionally, a consistent linear growth is observed from March to May. Conversely, January records the fewest bookings, with November and December also showing lower activity.\n",
        "* This information highlights the importance of considering seasonal variations when analyzing booking trends."
      ],
      "metadata": {
        "id": "4jstXR6OYoAp"
      }
    },
    {
      "cell_type": "markdown",
      "source": [
        "##### 3. Will the gained insights help creating a positive business impact?\n",
        "Are there any insights that lead to negative growth? Justify with specific reason."
      ],
      "metadata": {
        "id": "RoGjAbkUYoAp"
      }
    },
    {
      "cell_type": "markdown",
      "source": [
        "**Answer** :\n",
        "To optimize staffing levels, increase hospitality staff during peak booking periods to meet high demand. During off-seasons, consider offering special discounts to attract customers and compensate for lower booking volumes. This adaptive approach ensures efficient resource allocation and enhances customer engagement throughout the year."
      ],
      "metadata": {
        "id": "zfJ8IqMcYoAp"
      }
    },
    {
      "cell_type": "markdown",
      "source": [
        "#### Chart - 4"
      ],
      "metadata": {
        "id": "4Of9eVA-YrdM"
      }
    },
    {
      "cell_type": "code",
      "source": [
        "# Chart - 4 visualization code\n",
        "sns.countplot( x = df['meal'])"
      ],
      "metadata": {
        "id": "irlUoxc8YrdO"
      },
      "execution_count": null,
      "outputs": []
    },
    {
      "cell_type": "markdown",
      "source": [
        "##### 1. Why did you pick the specific chart?"
      ],
      "metadata": {
        "id": "iky9q4vBYrdO"
      }
    },
    {
      "cell_type": "markdown",
      "source": [
        "\n",
        "The bar graph visually compares customer demand for meals in 2015, 2016 and 2017. Each bar represents a specific meal, offering a convenient and quick assessment of the changes in demand over the time.\n",
        "\n"
      ],
      "metadata": {
        "id": "aJRCwT6DYrdO"
      }
    },
    {
      "cell_type": "markdown",
      "source": [
        "##### 2. What is/are the insight(s) found from the chart?"
      ],
      "metadata": {
        "id": "F6T5p64dYrdO"
      }
    },
    {
      "cell_type": "markdown",
      "source": [
        "**Answer Here** :\n",
        "* The highest demand is observed for BB meals, indicating a strong preference among consumers.\n",
        "* HB and SC meals show relatively equal but lower demand compared to BB.\n",
        "* FB meals have very low demand, and there is minimal interest in options not specified in the provided categories.\n",
        "\n",
        "**Overall, BB meals appear to be the most popular, while FB and undefined choices have limited appeal.**"
      ],
      "metadata": {
        "id": "Xx8WAJvtYrdO"
      }
    },
    {
      "cell_type": "markdown",
      "source": [
        "##### 3. Will the gained insights help creating a positive business impact?\n",
        "Are there any insights that lead to negative growth? Justify with specific reason."
      ],
      "metadata": {
        "id": "y-Ehk30pYrdP"
      }
    },
    {
      "cell_type": "markdown",
      "source": [
        "* The insight that BB meals have the highest demand presents a positive business opportunity for growth.\n",
        "* However, the very low demand for FB meals suggests a potential negative impact, urging the business to assess and address issues within that category to prevent negative growth.\n",
        "\n",
        "**Maximize overall sales by focusing on the high-demand BB category, optimizing FB meals based on customer feedback, implementing effective marketing, diversifying the menu, ensuring efficient operations, competitive pricing, and leveraging technology for convenience and loyalty programs.**"
      ],
      "metadata": {
        "id": "jLNxxz7MYrdP"
      }
    },
    {
      "cell_type": "markdown",
      "source": [
        "#### Chart - 5"
      ],
      "metadata": {
        "id": "bamQiAODYuh1"
      }
    },
    {
      "cell_type": "code",
      "source": [
        "# Chart - 5 visualization code\n",
        "temp_df = df[['country']].value_counts().reset_index().head(15)\n",
        "temp_df.columns  = ['Country','Count']\n",
        "print(temp_df)\n",
        "sns.barplot(x = temp_df['Country'], y = temp_df['Count'])"
      ],
      "metadata": {
        "id": "Sl_kOojBryHy"
      },
      "execution_count": null,
      "outputs": []
    },
    {
      "cell_type": "markdown",
      "source": [
        "##### 1. Why did you pick the specific chart?"
      ],
      "metadata": {
        "id": "QHF8YVU7Yuh3"
      }
    },
    {
      "cell_type": "markdown",
      "source": [
        "**Answer** : Visualizing the top 15 countries with the highest hotel bookings in 2015, 2016, and 2017 is straightforward using a bar graph. The reasons for these countries having the maximum bookings may vary."
      ],
      "metadata": {
        "id": "dcxuIMRPYuh3"
      }
    },
    {
      "cell_type": "markdown",
      "source": [
        "##### 2. What is/are the insight(s) found from the chart?"
      ],
      "metadata": {
        "id": "GwzvFGzlYuh3"
      }
    },
    {
      "cell_type": "markdown",
      "source": [
        "**Answer**\n",
        "* Observing the data, PRT has the highest hotel bookings at around 27,000.\n",
        "* While GBR, FRA, ESP, and DEU show a linear decrease in bookings.\n",
        "* ITA and IRL have approximately 4,000 bookings each.\n",
        "* BEL, BRA, NLD, and USA share a similar booking count, each around 2,500."
      ],
      "metadata": {
        "id": "uyqkiB8YYuh3"
      }
    },
    {
      "cell_type": "markdown",
      "source": [
        "##### 3. Will the gained insights help creating a positive business impact?\n",
        "Are there any insights that lead to negative growth? Justify with specific reason."
      ],
      "metadata": {
        "id": "qYpmQ266Yuh3"
      }
    },
    {
      "cell_type": "markdown",
      "source": [
        "**Answer**\n",
        "* The insight that PRT has the highest hotel bookings presents a positive business opportunity.\n",
        "* However, the linear decrease in bookings for GBR, FRA, ESP, and DEU warrants attention to prevent negative growth.\n",
        "* Countries like ITA and IRL offer growth potential, while BEL, BRA, NLD, and USA show stable performance that can be maintained or explored for further growth."
      ],
      "metadata": {
        "id": "_WtzZ_hCYuh4"
      }
    },
    {
      "cell_type": "markdown",
      "source": [
        "#### Chart - 6"
      ],
      "metadata": {
        "id": "OH-pJp9IphqM"
      }
    },
    {
      "cell_type": "code",
      "source": [
        "# Chart - 6 visualization code\n",
        "temp_df = df['market_segment'].value_counts().reset_index()\n",
        "temp_df.columns = ['Market Segment','Count']\n",
        "print(temp_df)"
      ],
      "metadata": {
        "id": "AK5ufomcwwWu"
      },
      "execution_count": null,
      "outputs": []
    },
    {
      "cell_type": "code",
      "source": [
        "plt.figure(figsize= [10,5])\n",
        "sns.barplot(x = temp_df['Market Segment'], y = temp_df['Count'])"
      ],
      "metadata": {
        "id": "q3v50_XLw_Gb"
      },
      "execution_count": null,
      "outputs": []
    },
    {
      "cell_type": "markdown",
      "source": [
        "##### 1. Why did you pick the specific chart?"
      ],
      "metadata": {
        "id": "bbFf2-_FphqN"
      }
    },
    {
      "cell_type": "markdown",
      "source": [
        "**Answer** : Bar plots facilitate easy comparison of market segments customer belong to based on total bookings from 2015 to 2017. This visual tool simplifies the analysis of trends and variations across the specified time frame."
      ],
      "metadata": {
        "id": "loh7H2nzphqN"
      }
    },
    {
      "cell_type": "markdown",
      "source": [
        "##### 2. What is/are the insight(s) found from the chart?"
      ],
      "metadata": {
        "id": "_ouA3fa0phqN"
      }
    },
    {
      "cell_type": "markdown",
      "source": [
        "**Answer** :\n",
        "* The online TA market segment dominates with over 50,000 bookings.\n",
        "* While offline TA/TO and Direct segments have fewer bookings at around 12,000 and 11,000, respectively.\n",
        "* Groups and Corporate segments both hover around 5,000 bookings.\n",
        "* Complementary, Aviation, and Undefined segments show minimal booking activity."
      ],
      "metadata": {
        "id": "VECbqPI7phqN"
      }
    },
    {
      "cell_type": "markdown",
      "source": [
        "##### 3. Will the gained insights help creating a positive business impact?\n",
        "Are there any insights that lead to negative growth? Justify with specific reason."
      ],
      "metadata": {
        "id": "Seke61FWphqN"
      }
    },
    {
      "cell_type": "markdown",
      "source": [
        "**Answer :** High online TA bookings (50,000+) offer a positive business opportunity, while lower numbers in offline TA/TO and Direct segments suggest potential negative growth. Addressing challenges in these segments is crucial for business optimization."
      ],
      "metadata": {
        "id": "DW4_bGpfphqN"
      }
    },
    {
      "cell_type": "markdown",
      "source": [
        "#### Chart - 7"
      ],
      "metadata": {
        "id": "PIIx-8_IphqN"
      }
    },
    {
      "cell_type": "code",
      "source": [
        "# Chart - 7 visualization code\n",
        "\n",
        "temp_df = df['distribution_channel'].value_counts().reset_index()\n",
        "temp_df.columns = ['Distribution Channel','Count']\n",
        "print(temp_df)\n",
        "sns.barplot(x = temp_df['Distribution Channel'],y =temp_df['Count'])"
      ],
      "metadata": {
        "id": "FycbKY45qQMC"
      },
      "execution_count": null,
      "outputs": []
    },
    {
      "cell_type": "markdown",
      "source": [
        "##### 1. Why did you pick the specific chart?"
      ],
      "metadata": {
        "id": "t27r6nlMphqO"
      }
    },
    {
      "cell_type": "markdown",
      "source": [
        "**Answer** : Bar charts facilitate a straightforward comparison of booking distribution channels across the years 2015, 2016, and 2017."
      ],
      "metadata": {
        "id": "iv6ro40sphqO"
      }
    },
    {
      "cell_type": "markdown",
      "source": [
        "##### 2. What is/are the insight(s) found from the chart?"
      ],
      "metadata": {
        "id": "r2jJGEOYphqO"
      }
    },
    {
      "cell_type": "markdown",
      "source": [
        "**Answer** :\n",
        "* The TA/TO distribution channel leads with nearly 70,000 bookings, showcasing a high demand.\n",
        "* The Direct channel follows with approximately 12,000 bookings, while Corporate has around 5,000.\n",
        "* In contrast, GDS has minimal bookings, and the undefined distribution channel is almost negligible, with only 5 bookings that might not even be noticeable on a bar chart.\n",
        "\n",
        "**This data emphasizes the dominance of TA/TO and highlights potential areas for strategic focus and improvement in other channels.**"
      ],
      "metadata": {
        "id": "Po6ZPi4hphqO"
      }
    },
    {
      "cell_type": "markdown",
      "source": [
        "##### 3. Will the gained insights help creating a positive business impact?\n",
        "Are there any insights that lead to negative growth? Justify with specific reason."
      ],
      "metadata": {
        "id": "b0JNsNcRphqO"
      }
    },
    {
      "cell_type": "markdown",
      "source": [
        "**Answer** : The TA/TO distribution channel stands out with nearly 70,000 bookings, offering a positive business opportunity. However, the Direct and Corporate channels, with approximately 12,000 and 5,000 bookings respectively, showcase areas for growth. In contrast, the GDS and undefined channels have minimal bookings, signaling potential challenges that need strategic attention to avoid negative growth and optimize overall business performance."
      ],
      "metadata": {
        "id": "xvSq8iUTphqO"
      }
    },
    {
      "cell_type": "markdown",
      "source": [
        "#### Chart - 8"
      ],
      "metadata": {
        "id": "BZR9WyysphqO"
      }
    },
    {
      "cell_type": "code",
      "source": [
        "# Chart - 8 visualization code\n",
        "\n",
        "print(df['deposit_type'].value_counts())\n",
        "sns.countplot(x = df['deposit_type'])"
      ],
      "metadata": {
        "id": "TdPTWpAVphqO"
      },
      "execution_count": null,
      "outputs": []
    },
    {
      "cell_type": "markdown",
      "source": [
        "##### 1. Why did you pick the specific chart?"
      ],
      "metadata": {
        "id": "jj7wYXLtphqO"
      }
    },
    {
      "cell_type": "markdown",
      "source": [
        "**Answer  :**\n",
        "Utilizing a bar chart makes it easier to visually illustrate customer preferences regarding deposit types. The chart clearly shows a significant inclination towards the \"No Deposit\" option, with a notably higher count, suggesting a strong customer preference for bookings without deposit requirements. Meanwhile, the lower counts for both refundable and non-refundable deposit types underscore the relatively lesser popularity of these options. This visual representation provides a quick and effective means to grasp and communicate customer preferences regarding deposit conditions."
      ],
      "metadata": {
        "id": "Ob8u6rCTphqO"
      }
    },
    {
      "cell_type": "markdown",
      "source": [
        "##### 2. What is/are the insight(s) found from the chart?"
      ],
      "metadata": {
        "id": "eZrbJ2SmphqO"
      }
    },
    {
      "cell_type": "markdown",
      "source": [
        "**Answer**\n",
        "* The key insight derived from the bar chart is the substantial preference for bookings without any deposit (\"No Deposit\"), as evidenced by the highest count of approximately 86,000.\n",
        "* This suggests that a significant portion of customers opts for flexibility in reservation conditions.\n",
        "* In contrast, the limited number of bookings with non-refundable deposits indicates a less favored and expected choice.\n",
        "* Additionally, the scarcity of bookings with refundable deposits highlights a low demand for this particular reservation condition.\n",
        "\n",
        "**Overall, the insight emphasizes the prominence of flexibility in booking terms among the observed data.**"
      ],
      "metadata": {
        "id": "rFu4xreNphqO"
      }
    },
    {
      "cell_type": "markdown",
      "source": [
        "##### 3. Will the gained insights help creating a positive business impact?\n",
        "Are there any insights that lead to negative growth? Justify with specific reason."
      ],
      "metadata": {
        "id": "Kod-YovA7nzP"
      }
    },
    {
      "cell_type": "markdown",
      "source": [
        "**Answer  :** The insights gained from the summary can indeed contribute to positive business impact. The significant preference for \"No Deposit\" bookings highlights an opportunity for the business to attract more customers by offering flexible reservation terms. This could lead to increased customer satisfaction and loyalty.\n",
        "\n",
        "However, potential negative impacts may arise from the limited popularity of refundable and non-refundable deposit options. If the business heavily relies on revenue generated from deposit-based bookings, the lower counts for these options could indicate a missed revenue opportunity. It's essential to assess the business model and financial strategies to ensure that the predominant preference for \"No Deposit\" does not adversely affect revenue goals. Adjusting marketing strategies or offering incentives for other deposit types could be considered to balance customer preferences with business objectives."
      ],
      "metadata": {
        "id": "ey_0qi68phqO"
      }
    },
    {
      "cell_type": "markdown",
      "source": [
        "#### Chart - 9"
      ],
      "metadata": {
        "id": "YJ55k-q6phqO"
      }
    },
    {
      "cell_type": "code",
      "source": [
        "# Chart - 9 visualization code\n",
        "\n",
        "plt.figure(figsize = [12,4])\n",
        "temp_df_reserved_room = df['reserved_room_type'].value_counts().reset_index()\n",
        "temp_df_reserved_room.columns = ['Room Type','No. of Bookings']\n",
        "plt.subplot(1,2,1)\n",
        "plt.title('Type of room Reserved by the Customer')\n",
        "sns.barplot(x = temp_df_reserved_room['Room Type'] , y = temp_df_reserved_room['No. of Bookings'])\n",
        "\n",
        "\n",
        "temp_df_assigned_room = df['assigned_room_type'].value_counts().reset_index()\n",
        "temp_df_assigned_room.columns = ['Room Type','No. of Bookings']\n",
        "plt.subplot(1,2,2)\n",
        "plt.title('Type of room Assigned to the Customer')\n",
        "sns.barplot(x = temp_df_assigned_room['Room Type'] , y = temp_df_assigned_room['No. of Bookings'])"
      ],
      "metadata": {
        "id": "B2aS4O1ophqO"
      },
      "execution_count": null,
      "outputs": []
    },
    {
      "cell_type": "markdown",
      "source": [
        "##### 1. Why did you pick the specific chart?"
      ],
      "metadata": {
        "id": "gCFgpxoyphqP"
      }
    },
    {
      "cell_type": "markdown",
      "source": [
        "**Answer :**  Using a bar plot simplifies the comparison between customers' preferred room types at the time of reservation and the room types actually assigned to them."
      ],
      "metadata": {
        "id": "TVxDimi2phqP"
      }
    },
    {
      "cell_type": "markdown",
      "source": [
        "##### 2. What is/are the insight(s) found from the chart?"
      ],
      "metadata": {
        "id": "OVtJsKN_phqQ"
      }
    },
    {
      "cell_type": "markdown",
      "source": [
        "**Answer**\n",
        "* Approximately 55,000 customers preferred A-type rooms, but only 45,000 received the requested type.\n",
        "* For D-type rooms, around 17,000 customers preferred it, and 22,000 were fortunate to get their preference.\n",
        "* Conversely, nearly 7,000 customers who favored E-type rooms ended up with that type.\n",
        "* There seems to be a mismatch in assignments, possibly with A-type customers being assigned D and E-type rooms.\n",
        "* Preferences for L and P-type rooms were minimal."
      ],
      "metadata": {
        "id": "ngGi97qjphqQ"
      }
    },
    {
      "cell_type": "markdown",
      "source": [
        "##### 3. Will the gained insights help creating a positive business impact?\n",
        "Are there any insights that lead to negative growth? Justify with specific reason."
      ],
      "metadata": {
        "id": "lssrdh5qphqQ"
      }
    },
    {
      "cell_type": "markdown",
      "source": [
        "**Answer :** Insights indicate room assignment mismatches, with customer preferences not consistently aligning with actual allocations. While opportunities for improvement exist to enhance satisfaction, the current disparities, especially for A, D, and E types, pose a risk of negative growth due to potential customer dissatisfaction and its impact on business reputation. Adjustments in the assignment process are essential to mitigate these risks and foster positive customer experiences."
      ],
      "metadata": {
        "id": "tBpY5ekJphqQ"
      }
    },
    {
      "cell_type": "markdown",
      "source": [
        "#### Chart - 10"
      ],
      "metadata": {
        "id": "U2RJ9gkRphqQ"
      }
    },
    {
      "cell_type": "code",
      "source": [
        "# Chart - 10 visualization code\n",
        "temp_df = df['customer_type'].value_counts().reset_index()\n",
        "temp_df.columns = ['Customer Type',\"Count\"]\n",
        "print(temp_df)\n",
        "sns.barplot(x = temp_df['Customer Type'], y = temp_df['Count'])"
      ],
      "metadata": {
        "id": "GM7a4YP4phqQ"
      },
      "execution_count": null,
      "outputs": []
    },
    {
      "cell_type": "markdown",
      "source": [
        "\n",
        "##### 1. Why did you pick the specific chart?"
      ],
      "metadata": {
        "id": "1M8mcRywphqQ"
      }
    },
    {
      "cell_type": "markdown",
      "source": [
        "**Answer  :** The bar chart succinctly displays booking trends for various customer types, including transient, transient party, contract, and group. This visual insight facilitates a quick understanding of the distribution, enabling businesses to adapt strategies to meet specific customer segment preferences effectively."
      ],
      "metadata": {
        "id": "8agQvks0phqQ"
      }
    },
    {
      "cell_type": "markdown",
      "source": [
        "##### 2. What is/are the insight(s) found from the chart?"
      ],
      "metadata": {
        "id": "tgIPom80phqQ"
      }
    },
    {
      "cell_type": "markdown",
      "source": [
        "**Answer  :**\n",
        "* Transient customers lead with around 72,000 bookings, indicating the highest demand.\n",
        "* Transient parties follow with approximately 12,000 bookings.\n",
        "* Contract bookings are relatively low at around 3,000.\n",
        "* Group bookings are the least among all categories."
      ],
      "metadata": {
        "id": "Qp13pnNzphqQ"
      }
    },
    {
      "cell_type": "markdown",
      "source": [
        "##### 3. Will the gained insights help creating a positive business impact?\n",
        "Are there any insights that lead to negative growth? Justify with specific reason."
      ],
      "metadata": {
        "id": "JMzcOPDDphqR"
      }
    },
    {
      "cell_type": "markdown",
      "source": [
        "**Answer :**\n",
        "The insights from the summary can guide positive business impact by highlighting the popularity of transient customers, indicating potential areas for targeted marketing and service enhancement.\n",
        "However, the lower counts for contract and group bookings may pose challenges. If the business heavily relies on revenue from these segments, the lower demand could impact growth negatively. Addressing the reasons behind the lower bookings for contract and group customers, such as adjusting offerings or marketing strategies, may be necessary to mitigate potential negative effects and create a more balanced revenue stream."
      ],
      "metadata": {
        "id": "R4Ka1PC2phqR"
      }
    },
    {
      "cell_type": "markdown",
      "source": [
        "#### Chart - 11"
      ],
      "metadata": {
        "id": "x-EpHcCOp1ci"
      }
    },
    {
      "cell_type": "code",
      "source": [
        "# Chart - 11 visualization code\n",
        "print(df['required_car_parking_spaces'].value_counts())\n",
        "sns.histplot(df['required_car_parking_spaces'])"
      ],
      "metadata": {
        "id": "mAQTIvtqp1cj"
      },
      "execution_count": null,
      "outputs": []
    },
    {
      "cell_type": "markdown",
      "source": [
        "##### 1. Why did you pick the specific chart?"
      ],
      "metadata": {
        "id": "X_VqEhTip1ck"
      }
    },
    {
      "cell_type": "markdown",
      "source": [
        "**Answer :** Utilizing a histogram allows for a visual representation of the distribution of customer requirements for parking space. The histogram will display the frequency or count of different levels of parking space requirements, providing a clear overview of the demand or preference among customers."
      ],
      "metadata": {
        "id": "-vsMzt_np1ck"
      }
    },
    {
      "cell_type": "markdown",
      "source": [
        "##### 2. What is/are the insight(s) found from the chart?"
      ],
      "metadata": {
        "id": "8zGJKyg5p1ck"
      }
    },
    {
      "cell_type": "markdown",
      "source": [
        "**Answer :**\n",
        "* The histogram illustrates the parking space requirements of customers, revealing that the majority, around 80,000, do not have any parking space needs.\n",
        "*  Approximately 7,000 customers specifically require parking space for a single vehicle, while the rest exhibit negligible demand for parking.\n",
        "* This distribution provides a clear understanding of the varying levels of parking space requirements among customers."
      ],
      "metadata": {
        "id": "ZYdMsrqVp1ck"
      }
    },
    {
      "cell_type": "markdown",
      "source": [
        "##### 3. Will the gained insights help creating a positive business impact?\n",
        "Are there any insights that lead to negative growth? Justify with specific reason."
      ],
      "metadata": {
        "id": "PVzmfK_Ep1ck"
      }
    },
    {
      "cell_type": "markdown",
      "source": [
        "**Answer :**\n",
        "Knowing that the majority of customers (around 80,000) do not require parking space suggests that, for this segment, providing or advertising parking may not be a significant factor in attracting bookings. Businesses can allocate resources more efficiently based on this information, potentially improving overall customer satisfaction.\n",
        "\n",
        "However, there might be a potential negative impact on revenue if there are services or charges associated with providing parking spaces. With only around 7,000 customers needing parking for a single vehicle, the business needs to balance resources and investments in parking facilities to align with actual demand. Overcommitting resources to parking for a small fraction of customers could result in inefficiencies and negative growth in terms of return on investment. Therefore, careful consideration of parking-related services and infrastructure is essential to optimize business outcomes.\n",
        "\n",
        "\n",
        "\n",
        "\n",
        "\n"
      ],
      "metadata": {
        "id": "ZTeIkHlRQjbe"
      }
    },
    {
      "cell_type": "markdown",
      "source": [
        "#### Chart - 12"
      ],
      "metadata": {
        "id": "n3dbpmDWp1ck"
      }
    },
    {
      "cell_type": "code",
      "source": [
        "# Chart - 12 visualization code\n",
        "plt.figure(figsize = [22,5])\n",
        "temp_df = df['reservation_status_date'].value_counts().reset_index().head(20)\n",
        "temp_df.columns = ['Date of Reservation','No. of Reservations']\n",
        "print(temp_df)\n",
        "plt.title('Figure 1')\n",
        "sns.barplot(x = temp_df['Date of Reservation'], y = temp_df['No. of Reservations'])\n",
        ""
      ],
      "metadata": {
        "id": "bwevp1tKp1ck"
      },
      "execution_count": null,
      "outputs": []
    },
    {
      "cell_type": "code",
      "source": [
        "plt.figure(figsize = [22,5])\n",
        "plt.title('Figure 2 ')\n",
        "sns.histplot(df['reservation_status_date'])"
      ],
      "metadata": {
        "id": "brNFRCcgRoYl"
      },
      "execution_count": null,
      "outputs": []
    },
    {
      "cell_type": "markdown",
      "source": [
        "##### 1. Why did you pick the specific chart?"
      ],
      "metadata": {
        "id": "ylSl6qgtp1ck"
      }
    },
    {
      "cell_type": "markdown",
      "source": [
        "**Answer :**\n",
        "* Fig.1, a bar graph, delineates the top 20 dates in 2015, 2016, and 2017 with the highest number of bookings.\n",
        "* Fig.2, a histogram, provides an overview of the distribution or trend in bookings during the same time period. Together, these visualizations offer valuable insights into peak booking dates and the overall booking pattern across the specified years."
      ],
      "metadata": {
        "id": "m2xqNkiQp1ck"
      }
    },
    {
      "cell_type": "markdown",
      "source": [
        "##### 2. What is/are the insight(s) found from the chart?"
      ],
      "metadata": {
        "id": "ZWILFDl5p1ck"
      }
    },
    {
      "cell_type": "markdown",
      "source": [
        "**Answer :**\n",
        "* The observation from Fig.2 reveals a linear growth pattern from August 2015 to October 2015, followed by a stable trend from February 2016 to November 2016.\n",
        "* There are ten peak days with the maximum number of bookings, including dates like 2016-02-14, 2017-05-25, 2015-10-21, 2016-10-06, 2016-03-28, 2017-05-05, 2016-11-21, 2017-02-15, 2017-03-06, and 2017-02-12.\n",
        "* These specific dates stand out as periods of exceptionally high booking activity, offering insights into potential factors influencing customer demand during those times."
      ],
      "metadata": {
        "id": "x-lUsV2mp1ck"
      }
    },
    {
      "cell_type": "markdown",
      "source": [
        "##### 3. Will the gained insights help creating a positive business impact?\n",
        "Are there any insights that lead to negative growth? Justify with specific reason."
      ],
      "metadata": {
        "id": "M7G43BXep1ck"
      }
    },
    {
      "cell_type": "markdown",
      "source": [
        "**Answer :** The gained insights can potentially contribute to a positive business impact. Understanding the linear growth and stable trends during specific periods allows businesses to align resources, marketing efforts, and promotions to capitalize on high-demand intervals. Identifying peak booking days, such as those mentioned, enables targeted strategies to enhance customer engagement during these times, potentially leading to increased revenue and customer satisfaction.\n",
        "\n",
        "However, potential negative impacts may arise if the business fails to adapt to or capitalize on the observed patterns. For instance, not adjusting staff levels or marketing strategies during high-demand periods could result in missed opportunities for revenue growth. It's crucial for the business to use these insights to inform proactive and strategic decisions, ensuring that they align with customer behavior and maximize positive outcomes."
      ],
      "metadata": {
        "id": "5wwDJXsLp1cl"
      }
    },
    {
      "cell_type": "markdown",
      "source": [
        "#### Chart - 13"
      ],
      "metadata": {
        "id": "Ag9LCva-p1cl"
      }
    },
    {
      "cell_type": "code",
      "source": [
        "# Chart - 13 visualization code\n",
        "\n",
        "temp = df.copy()\n",
        "temp['arrival_date_year'] = temp['arrival_date_year'].astype('object')\n",
        "plt.figure(figsize = [15,5])\n",
        "sns.countplot(data = temp,x = 'arrival_date_month',hue = 'arrival_date_year')"
      ],
      "metadata": {
        "id": "EUfxeq9-p1cl"
      },
      "execution_count": null,
      "outputs": []
    },
    {
      "cell_type": "markdown",
      "source": [
        "##### 1. Why did you pick the specific chart?"
      ],
      "metadata": {
        "id": "ODzLExhbfowj"
      }
    },
    {
      "cell_type": "markdown",
      "source": [
        "**Answer :** The bar graph visually compares the number of bookings in each month for the years 2015, 2016, and 2017. The distinctive colors for each year enable a quick and efficient comparison of booking trends across the months, offering insights into patterns and variations over the three years."
      ],
      "metadata": {
        "id": "fwoSi7gmfowk"
      }
    },
    {
      "cell_type": "markdown",
      "source": [
        "##### 2. What is/are the insight(s) found from the chart?"
      ],
      "metadata": {
        "id": "e0XmthAylFQd"
      }
    },
    {
      "cell_type": "markdown",
      "source": [
        "**Answer: The booking trends in the specified years reveal distinct patterns.**\n",
        "\n",
        "* In 2015, despite overall lower bookings compared to 2016 and 2017, September had the highest, followed by October and August.\n",
        "* In 2016, August and October marked the highest bookings, while July, September, March, April, and May had relatively similar counts.\n",
        "* In 2017, May and July witnessed the maximum bookings, with April, June, and August following suit.\n",
        "\n",
        "**These insights provide a clear understanding of the monthly variations in booking activity across the three years.**"
      ],
      "metadata": {
        "id": "FmKwKyTNlFQd"
      }
    },
    {
      "cell_type": "markdown",
      "source": [
        "##### 3. Will the gained insights help creating a positive business impact?\n",
        "Are there any insights that lead to negative growth? Justify with specific reason."
      ],
      "metadata": {
        "id": "3MPXvC8up1cl"
      }
    },
    {
      "cell_type": "markdown",
      "source": [
        "**Answer :** The insights on monthly booking trends across 2015, 2016, and 2017 can have a positive business impact. Identifying peak months allows businesses to optimize marketing strategies, allocate resources efficiently, and cater to increased demand during specific periods. However, potential challenges may arise from lower booking months, especially in 2015, requiring targeted efforts to boost reservations during those times. Strategic planning around peak and off-peak months can mitigate negative impacts and enhance overall business performance."
      ],
      "metadata": {
        "id": "V22bRsFWp1cl"
      }
    },
    {
      "cell_type": "markdown",
      "source": [
        "#### Chart - 14"
      ],
      "metadata": {
        "id": "x8SFgsBwl7jr"
      }
    },
    {
      "cell_type": "code",
      "source": [
        "# Chart - 14 Vizialisation Code\n",
        "temp_df = df[['country','is_repeated_guest']].groupby(['country']).agg(['count','sum'])[['is_repeated_guest']].reset_index()\n",
        "temp_df.columns = ['Country',\"total\",'repeated']\n",
        "sorted_temp_df = temp_df.sort_values(by = ['total','repeated'],ascending = False).head(15)\n",
        "print(sorted_temp_df)\n",
        "\n",
        "plt.figure(figsize = (15,5))\n",
        "sns.barplot(data = sorted_temp_df, x = 'Country', y  = 'total' , hue = 'repeated')"
      ],
      "metadata": {
        "id": "6_eVipPesp5F"
      },
      "execution_count": null,
      "outputs": []
    },
    {
      "cell_type": "markdown",
      "source": [
        "##### 1. Why did you pick the specific chart?"
      ],
      "metadata": {
        "id": "htiOqBYIl7j1"
      }
    },
    {
      "cell_type": "markdown",
      "source": [
        "**Answer :**\n",
        "The bar graph, incorporating hue color, effectively visualizes the top 15 countries with total bookings in the years 2015, 2016, and 2017. The additional hue component illustrates the number of repeated customers within the total bookings for each country. This comprehensive visualization provides insights into both the overall booking trends and the prevalence of repeated customers across different countries over the specified years."
      ],
      "metadata": {
        "id": "iXoDWXtTl7j2"
      }
    },
    {
      "cell_type": "markdown",
      "source": [
        "##### 2. What is/are the insight(s) found from the chart?"
      ],
      "metadata": {
        "id": "inRqz2IMl7j2"
      }
    },
    {
      "cell_type": "markdown",
      "source": [
        "**Answer :**  \n",
        "* Portugal (PRT) leads with approximately 27,000 bookings, featuring a substantial number of repeated customers exceeding 2,500.\n",
        "* Conversely, GBR, FRA, ESP, and DEU exhibit a linear decrease in bookings.\n",
        "* Italy (ITA) and Ireland (IRL) each have around 4,000 bookings.\n",
        "* Belgium (BEL), Brazil (BRA), Netherlands (NLD), and the United States (USA) share a similar booking count, approximately 2,500 each.\n",
        "\n",
        "**Remarkably, besides Portugal, no other country records more than 200 repeated bookings. These insights provide a clear understanding of the distribution of hotel bookings and repeated customer behavior across different nations.**"
      ],
      "metadata": {
        "id": "q_lG7IY1l7j2"
      }
    },
    {
      "cell_type": "markdown",
      "source": [
        "##### 3. Will the gained insights help creating a positive business impact?\n",
        "Are there any insights that lead to negative growth? Justify with specific reason."
      ],
      "metadata": {
        "id": "m3RLSkfA6FCB"
      }
    },
    {
      "cell_type": "markdown",
      "source": [
        "**Answer :**\n",
        "The insights suggest positive opportunities in countries like Portugal with high bookings and repeated customers. However, some countries show a linear decrease in bookings, indicating potential challenges. Additionally, except for Portugal, most countries have fewer repeated bookings, emphasizing the need for targeted customer retention strategies and improved marketing efforts. Overall, these insights can guide positive business impact through targeted actions."
      ],
      "metadata": {
        "id": "vM6khyjTk1In"
      }
    },
    {
      "cell_type": "markdown",
      "source": [
        "#### Chart - 15"
      ],
      "metadata": {
        "id": "pqyfc_87oUfX"
      }
    },
    {
      "cell_type": "code",
      "source": [
        "# Chart 15 Visualization Code\n",
        "\n",
        "plt.figure(figsize = (22,5))\n",
        "plt.subplot(1,2,1)\n",
        "plt.title('Fig.1 Market Segemnt ')\n",
        "sns.countplot(data = df, x = df['market_segment'],hue = 'is_repeated_guest')\n",
        "\n",
        "plt.subplot(1,2,2)\n",
        "plt.title('Fig.2 Distribution_channel')\n",
        "sns.countplot(data = df, x = df['distribution_channel'],hue = df['is_repeated_guest'])"
      ],
      "metadata": {
        "id": "sWocyAS1oUfi"
      },
      "execution_count": null,
      "outputs": []
    },
    {
      "cell_type": "markdown",
      "source": [
        "##### 1. Why did you pick the specific chart?"
      ],
      "metadata": {
        "id": "xG_Z8mJMoUfi"
      }
    },
    {
      "cell_type": "markdown",
      "source": [
        "**Answer :**\n",
        "In Fig.1, the bar plots provide a simple comparison of market segments based on total bookings from 2015 to 2017. This visualization eases the analysis of trends and variations in customer segments over the specified time frame.\n",
        "\n",
        "In Fig.2, the bar charts enable a direct comparison of booking distribution channels for the years 2015, 2016, and 2017. The addition of the hue parameter in both figures signifies the presence of repeated guests within each category, offering insights into the distribution and prevalence of repeat customers across market segments and booking channels."
      ],
      "metadata": {
        "id": "xD5_bjnuoUfj"
      }
    },
    {
      "cell_type": "markdown",
      "source": [
        "##### 2. What is/are the insight(s) found from the chart?"
      ],
      "metadata": {
        "id": "nmSnl6hOoUfj"
      }
    },
    {
      "cell_type": "markdown",
      "source": [
        "**Answer :**\n",
        "\n",
        "**In Fig. 1**,\n",
        "* the dominance of the online TA market segment is evident, with over 50,000 bookings and few repeated guests.\n",
        "* Offline TA/TO and Direct segments have fewer bookings, around 12,000 and 11,000, respectively.\n",
        "* The Corporate segment, while having around 5,000 bookings, stands out with the highest number of repeated guests compared to the online TA segment.\n",
        "* Complementary, Aviation, and Undefined segments show minimal booking activity.\n",
        "\n",
        "**In Fig. 2**,\n",
        "* the TA/TO distribution channel leads with nearly 70,000 bookings, highlighting high demand.\n",
        "* Direct follows with around 12,000 bookings, and Corporate has around 5,000. * * The Corporate distribution channel features the maximum number of repeated customers, followed by almost equal numbers of repeated guests for Direct and TA/TO distribution channels.\n",
        "* GDS has minimal bookings, and the undefined distribution channel is negligible with only 5 bookings."
      ],
      "metadata": {
        "id": "m4o3svnYoUfj"
      }
    },
    {
      "cell_type": "markdown",
      "source": [
        "##### 3. Will the gained insights help creating a positive business impact?\n",
        "Are there any insights that lead to negative growth? Justify with specific reason."
      ],
      "metadata": {
        "id": "VfsEJQg7ZSSM"
      }
    },
    {
      "cell_type": "markdown",
      "source": [
        "**Answer :**\n",
        "The gained insights can contribute to a positive business impact. Identifying the dominance of the online TA market segment and high demand in TA/TO distribution channel provides opportunities for targeted marketing and resource allocation. The Corporate segment, with a notable number of repeated guests, signals a potential for customer loyalty programs and enhanced service offerings.\n",
        "\n",
        "However, challenges may arise in the minimal booking activity observed in segments like Complementary, Aviation, and Undefined, which could impact overall growth. It's essential to assess whether these segments align with business objectives or if there's potential for improvement through targeted strategies. Adjusting marketing efforts and services for the less active segments can mitigate negative impacts and promote overall positive growth."
      ],
      "metadata": {
        "id": "4M4_iQAUZSSV"
      }
    },
    {
      "cell_type": "markdown",
      "source": [
        "#### Chart - 16\n"
      ],
      "metadata": {
        "id": "zMyMLsJVoWPw"
      }
    },
    {
      "cell_type": "code",
      "source": [
        "# Chart 16 Visualization Code\n",
        "plt.figure(figsize = (20,5))\n",
        "plt.subplot(1,2,1)\n",
        "plt.title('Fig 1 : Reserved room by the Customers')\n",
        "sns.countplot(data = df, x = df['reserved_room_type'],hue = df['is_repeated_guest'])\n",
        "\n",
        "\n",
        "plt.subplot(1,2,2)\n",
        "plt.title('Fig 2 : Assigned room to the customers')\n",
        "sns.countplot(data = df, x = df['assigned_room_type'],hue = df['is_repeated_guest'])\n"
      ],
      "metadata": {
        "id": "cyo_p75-oWQF"
      },
      "execution_count": null,
      "outputs": []
    },
    {
      "cell_type": "markdown",
      "source": [
        "##### 1. Why did you pick the specific chart?"
      ],
      "metadata": {
        "id": "3k1RMi4RoWQG"
      }
    },
    {
      "cell_type": "markdown",
      "source": [
        "**Answer :**\n",
        "In Fig. 1, the bar plot simplifies the comparison of customers' preferred room types at the time of reservation.\n",
        "\n",
        "Fig. 2 presents a bar plot illustrating the room types actually assigned to them.\n",
        "\n",
        "Both figures include a hue parameter, indicating the presence of repeated customers. These visualizations provide a clear overview of room type preferences versus actual assignments, with the added dimension of identifying repeated customers within each category.\n"
      ],
      "metadata": {
        "id": "0488JDAkoWQG"
      }
    },
    {
      "cell_type": "markdown",
      "source": [
        "##### 2. What is/are the insight(s) found from the chart?"
      ],
      "metadata": {
        "id": "VyyPftxSoWQG"
      }
    },
    {
      "cell_type": "markdown",
      "source": [
        "**Answer :**  The data analysis reveals that approximately 55,000 customers preferred A-type rooms, out of which almost 3,000 were repeated customers. However, only 45,000 received their requested A-type rooms, including around 2,000 repeated customers. For D-type rooms, around 17,000 customers preferred them, and 22,000 were fortunate to get their preference, with repeated customers being provided with D-type rooms. On the contrary, nearly 7,000 customers who favored E-type rooms ended up with that type. There appears to be a mismatch in assignments, potentially with A-type customers being assigned D and E-type rooms. Preferences for L and P-type rooms were minimal."
      ],
      "metadata": {
        "id": "rh4jZ0bxoWQG"
      }
    },
    {
      "cell_type": "markdown",
      "source": [
        "##### 3. Will the gained insights help creating a positive business impact?\n",
        "Are there any insights that lead to negative growth? Justify with specific reason."
      ],
      "metadata": {
        "id": "E_ZakyU4ZtT_"
      }
    },
    {
      "cell_type": "markdown",
      "source": [
        "**Answer :**\n",
        "The gained insights can potentially help create a positive business impact. Understanding the discrepancies between customer preferences and actual room assignments, especially the mismatch in A-type rooms, provides an opportunity to enhance the accuracy of room allocations. Improving this alignment can lead to increased customer satisfaction and loyalty.\n",
        "\n",
        "However, the negative impact may arise from instances where customers do not receive their preferred room types, potentially affecting their overall experience and leading to dissatisfaction. This misalignment might influence repeat bookings and customer retention negatively. Therefore, addressing and minimizing such discrepancies is crucial to ensure positive growth and maintain a favorable reputation among customers."
      ],
      "metadata": {
        "id": "_3kmhB_4ZtUY"
      }
    },
    {
      "cell_type": "markdown",
      "source": [
        "#### Chart - 17"
      ],
      "metadata": {
        "id": "Boq1MYImoVQm"
      }
    },
    {
      "cell_type": "code",
      "source": [
        "# Chart 18 Visualization Code\n",
        "sns.countplot(data = df, x = df['customer_type'],hue = df['is_repeated_guest'])"
      ],
      "metadata": {
        "id": "ZsjL2_N6oVQy"
      },
      "execution_count": null,
      "outputs": []
    },
    {
      "cell_type": "markdown",
      "source": [
        "##### 1. Why did you pick the specific chart?"
      ],
      "metadata": {
        "id": "lWHVWtYgoVQy"
      }
    },
    {
      "cell_type": "markdown",
      "source": [
        "**Answer :**\n",
        "The bar chart effectively illustrates booking trends for different customer types—transient, transient party, contract, and group. Enhanced with a hue parameter indicating repeated customers, the visualization offers a quick and clear understanding of the distribution within each segment. This insight is valuable for businesses to tailor strategies and adapt services to meet specific preferences within various customer segments effectively."
      ],
      "metadata": {
        "id": "KlEwCaCtoVQy"
      }
    },
    {
      "cell_type": "markdown",
      "source": [
        "##### 2. What is/are the insight(s) found from the chart?"
      ],
      "metadata": {
        "id": "ffENB36coVQz"
      }
    },
    {
      "cell_type": "markdown",
      "source": [
        "**Answer :**\n",
        "\n",
        "* The data reveals that transient customers lead with around 70,000 bookings, showcasing the highest demand, though all are non-repeated customers.\n",
        "* Transient-parties follow with approximately 12,000 non-repeated bookings and minimal repeated bookings.\n",
        "* Contract bookings are relatively low at around 3,000. Group bookings have the lowest count among all categories, including some repeated customers.\n",
        "* This insight provides a clear understanding of the distribution of bookings and repeated customer patterns across different customer types."
      ],
      "metadata": {
        "id": "4NgScBzKoVQz"
      }
    },
    {
      "cell_type": "markdown",
      "source": [
        "##### 3. Will the gained insights help creating a positive business impact?\n",
        "Are there any insights that lead to negative growth? Justify with specific reason."
      ],
      "metadata": {
        "id": "HicMCRKLZ3jS"
      }
    },
    {
      "cell_type": "markdown",
      "source": [
        "**Answer :**\n",
        "The gained insights can contribute to a positive business impact. Understanding the high demand for transient customers and the presence of repeated customers within this segment offers opportunities for targeted marketing and personalized services. However, potential challenges may arise from the relatively low number of repeated bookings in transient-party and contract segments. Strategies to enhance customer retention within these segments might be necessary to avoid negative growth. Adapting services to cater to the unique needs of each customer type can optimize positive business outcomes."
      ],
      "metadata": {
        "id": "RrulsH6SZ3je"
      }
    },
    {
      "cell_type": "markdown",
      "source": [
        "#### Chart - 18 - Correlation Heatmap"
      ],
      "metadata": {
        "id": "NC_X3p0fY2L0"
      }
    },
    {
      "cell_type": "code",
      "source": [
        "# Correlation Heatmap visualization code\n",
        "plt.figure(figsize = (7,5))\n",
        "sns.heatmap(df.corr())"
      ],
      "metadata": {
        "id": "xyC9zolEZNRQ"
      },
      "execution_count": null,
      "outputs": []
    },
    {
      "cell_type": "markdown",
      "source": [
        "##### 1. Why did you pick the specific chart?"
      ],
      "metadata": {
        "id": "UV0SzAkaZNRQ"
      }
    },
    {
      "cell_type": "markdown",
      "source": [
        "**Answer :**\n",
        "A heatmap is a visual representation of data in a grid format, where each box is shaded to indicate the correlation between features through numerical values. Lighter shades represent positive correlations, while darker shades indicate negative correlations. This visualization method provides a quick and intuitive way to understand the relationships between different features in a dataset."
      ],
      "metadata": {
        "id": "DVPuT8LYZNRQ"
      }
    },
    {
      "cell_type": "markdown",
      "source": [
        "##### 2. What is/are the insight(s) found from the chart?"
      ],
      "metadata": {
        "id": "YPEH6qLeZNRQ"
      }
    },
    {
      "cell_type": "markdown",
      "source": [
        "**Answer :**The summary indicates positive correlations between stays in weeknights and weekend nights, as well as a positive trend for adults staying during both weekdays and weekends. Repeated customers tend to have fewer cancellations compared to those with a history of cancellations, which aligns with expectations. Additionally, a negative correlation suggests that customers requiring car parking may cancel when parking is not provided. Overall, these insights provide valuable information for understanding guest behavior and improving service offerings."
      ],
      "metadata": {
        "id": "bfSqtnDqZNRR"
      }
    },
    {
      "cell_type": "markdown",
      "source": [
        "#### Chart - 19 - Pair Plot"
      ],
      "metadata": {
        "id": "q29F0dvdveiT"
      }
    },
    {
      "cell_type": "code",
      "source": [
        "# Pair Plot visualization code\n",
        "sns.pairplot(df)"
      ],
      "metadata": {
        "id": "o58-TEIhveiU"
      },
      "execution_count": null,
      "outputs": []
    },
    {
      "cell_type": "markdown",
      "source": [
        "##### 1. Why did you pick the specific chart?"
      ],
      "metadata": {
        "id": "EXh0U9oCveiU"
      }
    },
    {
      "cell_type": "markdown",
      "source": [
        "**Answer :**\n",
        "* Utilizing a pairplot for the hotel booking dataset proves beneficial, offering a robust visualization tool for exploring relationships among multiple numerical variables.\n",
        "* The pairplot displays scatterplots and histograms, providing a comprehensive view of correlations and distributions. This aids in identifying patterns, trends, and potential outliers efficiently.\n",
        "* The visualization's quick and insightful nature makes it a valuable asset for deriving meaningful insights and informing subsequent analyses or decision-making during data exploration and interpretation."
      ],
      "metadata": {
        "id": "eMmPjTByveiU"
      }
    },
    {
      "cell_type": "markdown",
      "source": [
        "##### 2. What is/are the insight(s) found from the chart?"
      ],
      "metadata": {
        "id": "22aHeOlLveiV"
      }
    },
    {
      "cell_type": "markdown",
      "source": [
        "Answer Here"
      ],
      "metadata": {
        "id": "uPQ8RGwHveiV"
      }
    },
    {
      "cell_type": "markdown",
      "source": [
        "## **5. Solution to Business Objective**"
      ],
      "metadata": {
        "id": "JcMwzZxoAimU"
      }
    },
    {
      "cell_type": "markdown",
      "source": [
        "#### What do you suggest the client to achieve Business Objective ?\n",
        "Explain Briefly."
      ],
      "metadata": {
        "id": "8G2x9gOozGDZ"
      }
    },
    {
      "cell_type": "markdown",
      "source": [
        "Based on the insights gathered from the data:\n",
        "\n",
        "1. **Targeted Marketing and Service Enhancement:** Focus on targeted marketing strategies and service enhancements for transient customers, as they represent the highest demand. Implement personalized services to attract and retain transient customers.\n",
        "\n",
        "2. **Addressing Room Assignment Mismatches:** Address discrepancies between customer preferences and actual room assignments. Implement measures to ensure accurate room allocations, improving overall customer satisfaction and loyalty.\n",
        "\n",
        "3. **Optimizing Booking Channels:** Given the dominance of online TA and high demand in TA/TO distribution channels, optimize marketing efforts and resource allocation for these segments. Consider loyalty programs for corporate customers to enhance retention.\n",
        "\n",
        "4. **Flexible Booking Terms:** Capitalize on the popularity of \"No Deposit\" bookings by promoting flexible reservation terms. Adjust marketing strategies to leverage this preference and potentially increase customer satisfaction.\n",
        "\n",
        "5. **Strategic Business Growth in Countries:** Leverage insights on hotel bookings by country to identify growth opportunities. Focus on markets with high bookings like Portugal, explore growth potential in countries like Italy and Ireland, and maintain stability in countries with consistent booking counts.\n",
        "\n",
        "6. **Adaptive Seasonal Strategies:** Implement adaptive seasonal strategies, such as optimizing staffing levels during peak months and offering special discounts during off-seasons. Align resources with seasonal variations to maximize efficiency.\n",
        "\n",
        "7. **Catering to Preferred Meal Types:** Maximize overall sales by focusing on the high-demand BB meal category. Optimize FB meals based on customer feedback, implement effective marketing, diversify the menu, ensure competitive pricing, and leverage technology for convenience and loyalty programs.\n",
        "\n",
        "8. **Parking Space Allocation:** Optimize resource allocation for parking space based on customer demand. Consider potential impacts on revenue and ensure efficient infrastructure utilization.\n",
        "\n",
        "9. **Capitalizing on Peak Booking Periods:** Align marketing strategies and promotions with observed peak booking periods. Proactively adapt staffing levels and promotions during high-demand intervals to capitalize on increased customer activity.\n",
        "\n",
        "10. **Strategic Focus on Customer Segments:** Tailor strategies and services to the preferences of different customer segments, especially transient customers. Consider targeted promotions and loyalty programs to enhance customer retention within specific segments.\n",
        "\n",
        "By implementing these strategies, the client can work towards achieving their business objectives, including increasing customer satisfaction, optimizing revenue, and fostering positive growth in various aspects of their operations.Answer Here."
      ],
      "metadata": {
        "id": "pASKb0qOza21"
      }
    },
    {
      "cell_type": "markdown",
      "source": [
        "# **Conclusion**"
      ],
      "metadata": {
        "id": "gCX9965dhzqZ"
      }
    },
    {
      "cell_type": "markdown",
      "source": [
        "In conclusion, leveraging the insights from the data enables the client to tailor strategic approaches for targeted marketing, service enhancements, and resource optimization. Addressing specific areas, such as transient customer engagement, room assignment accuracy, and channel optimization, will contribute to increased customer satisfaction, loyalty, and overall business growth. The adaptive strategies proposed align with observed trends, ensuring a proactive and customer-centric approach for positive business impact."
      ],
      "metadata": {
        "id": "Fjb1IsQkh3yE"
      }
    },
    {
      "cell_type": "markdown",
      "source": [
        "### ***Hurrah! You have successfully completed your EDA Capstone Project !!!***"
      ],
      "metadata": {
        "id": "gIfDvo9L0UH2"
      }
    }
  ]
}